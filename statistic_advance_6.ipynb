{
  "nbformat": 4,
  "nbformat_minor": 0,
  "metadata": {
    "colab": {
      "provenance": []
    },
    "kernelspec": {
      "name": "python3",
      "display_name": "Python 3"
    },
    "language_info": {
      "name": "python"
    }
  },
  "cells": [
    {
      "cell_type": "code",
      "execution_count": 1,
      "metadata": {
        "colab": {
          "base_uri": "https://localhost:8080/",
          "height": 88
        },
        "id": "Ey3x6xTbRSpi",
        "outputId": "2f7db821-3799-4119-d940-9a5f8b0c2140"
      },
      "outputs": [
        {
          "output_type": "execute_result",
          "data": {
            "text/plain": [
              "'\\nANOVA (Analysis of Variance) requires three key assumptions:\\n\\n1---Independence of observations: Each observation in the dataset should be independent of others. A violation could occur if the data points are related, like in repeated measurements.\\n2---Normality: The residuals (errors) in each group should be approximately normally distributed. Violations include skewed data, which can lead to incorrect F-statistics.\\n3---Homogeneity of variances (Homoscedasticity): All groups should have similar variances. If violated (heteroscedasticity), it could lead to unreliable results, especially in unequal sample sizes.'"
            ],
            "application/vnd.google.colaboratory.intrinsic+json": {
              "type": "string"
            }
          },
          "metadata": {},
          "execution_count": 1
        }
      ],
      "source": [
        "#answer:-1\n",
        "\n",
        "\"\"\"\n",
        "ANOVA (Analysis of Variance) requires three key assumptions:\n",
        "\n",
        "1---Independence of observations: Each observation in the dataset should be independent of others. A violation could occur if the data points are related, like in repeated measurements.\n",
        "2---Normality: The residuals (errors) in each group should be approximately normally distributed. Violations include skewed data, which can lead to incorrect F-statistics.\n",
        "3---Homogeneity of variances (Homoscedasticity): All groups should have similar variances. If violated (heteroscedasticity), it could lead to unreliable results, especially in unequal sample sizes.\"\"\""
      ]
    },
    {
      "cell_type": "code",
      "source": [
        "#answer:-2\n",
        "\n",
        "\"\"\"\n",
        "1---One-way ANOVA: Used when comparing the means of three or more groups based on one factor (e.g., comparing the effectiveness of three diets on weight loss).\n",
        "2---Two-way ANOVA: Applied when analyzing the effect of two independent factors (e.g., comparing the effect of diet and exercise type on weight loss).\n",
        "3---Repeated Measures ANOVA: Used when the same subjects are measured multiple times under different conditions (e.g., measuring the impact of medication on patients over several months).\"\"\""
      ],
      "metadata": {
        "colab": {
          "base_uri": "https://localhost:8080/",
          "height": 70
        },
        "id": "gA_5V1MvSFkl",
        "outputId": "2570c535-da07-46a6-87ec-bc7b5dd5c5af"
      },
      "execution_count": 2,
      "outputs": [
        {
          "output_type": "execute_result",
          "data": {
            "text/plain": [
              "'\\n1---One-way ANOVA: Used when comparing the means of three or more groups based on one factor (e.g., comparing the effectiveness of three diets on weight loss).\\n2---Two-way ANOVA: Applied when analyzing the effect of two independent factors (e.g., comparing the effect of diet and exercise type on weight loss).\\n3---Repeated Measures ANOVA: Used when the same subjects are measured multiple times under different conditions (e.g., measuring the impact of medication on patients over several months).'"
            ],
            "application/vnd.google.colaboratory.intrinsic+json": {
              "type": "string"
            }
          },
          "metadata": {},
          "execution_count": 2
        }
      ]
    },
    {
      "cell_type": "code",
      "source": [
        "#answer:-3\n",
        "\n",
        "\"\"\"\n",
        "In ANOVA, variance is partitioned into two components:\n",
        "\n",
        "1---Between-group variance: Variance due to differences between the group means.\n",
        "2----Within-group variance: Variance within each group. Understanding this helps determine if the differences between group means are greater than the natural variability within the groups, which is critical in determining the significance of the results.\"\"\""
      ],
      "metadata": {
        "colab": {
          "base_uri": "https://localhost:8080/",
          "height": 70
        },
        "id": "rLDiIvTrSQhE",
        "outputId": "97689c43-7b1c-42ed-aff0-4450a43a5149"
      },
      "execution_count": 3,
      "outputs": [
        {
          "output_type": "execute_result",
          "data": {
            "text/plain": [
              "'\\nIn ANOVA, variance is partitioned into two components:\\n\\n1---Between-group variance: Variance due to differences between the group means.\\n2----Within-group variance: Variance within each group. Understanding this helps determine if the differences between group means are greater than the natural variability within the groups, which is critical in determining the significance of the results.'"
            ],
            "application/vnd.google.colaboratory.intrinsic+json": {
              "type": "string"
            }
          },
          "metadata": {},
          "execution_count": 3
        }
      ]
    },
    {
      "cell_type": "code",
      "source": [
        "#answewr:-4\n",
        "\n",
        "import numpy as np\n",
        "import pandas as pd\n",
        "import statsmodels.api as sm\n",
        "from statsmodels.formula.api import ols\n",
        "\n",
        "# Example data\n",
        "df = pd.DataFrame({'Group': ['A']*10 + ['B']*10 + ['C']*10,\n",
        "                   'Values': np.random.randn(30)})\n",
        "\n",
        "model = ols('Values ~ C(Group)', data=df).fit()\n",
        "anova_table = sm.stats.anova_lm(model, typ=2)\n",
        "print(anova_table)\n"
      ],
      "metadata": {
        "colab": {
          "base_uri": "https://localhost:8080/"
        },
        "id": "9qc0CBShSf-M",
        "outputId": "f3ffb3f9-290e-4753-b719-7a411ca2749f"
      },
      "execution_count": 4,
      "outputs": [
        {
          "output_type": "stream",
          "name": "stdout",
          "text": [
            "             sum_sq    df         F   PR(>F)\n",
            "C(Group)   3.614363   2.0  2.075719  0.14503\n",
            "Residual  23.506987  27.0       NaN      NaN\n"
          ]
        }
      ]
    },
    {
      "cell_type": "code",
      "source": [
        "#answer:-5\n",
        "\n",
        "# Example: Two-way ANOVA with interaction\n",
        "import statsmodels.api as sm\n",
        "from statsmodels.formula.api import ols\n",
        "\n",
        "data = pd.DataFrame({'Factor1': np.random.choice(['A', 'B'], 30),\n",
        "                     'Factor2': np.random.choice(['X', 'Y'], 30),\n",
        "                     'Values': np.random.randn(30)})\n",
        "\n",
        "model = ols('Values ~ C(Factor1) * C(Factor2)', data=data).fit()\n",
        "anova_table = sm.stats.anova_lm(model, typ=2)\n",
        "print(anova_table)\n"
      ],
      "metadata": {
        "colab": {
          "base_uri": "https://localhost:8080/"
        },
        "id": "9KEbjCgASj-3",
        "outputId": "a09e7fb2-47a5-4b01-f03c-5b034dc44b20"
      },
      "execution_count": 5,
      "outputs": [
        {
          "output_type": "stream",
          "name": "stdout",
          "text": [
            "                          sum_sq    df         F    PR(>F)\n",
            "C(Factor1)              0.002283   1.0  0.002599  0.959727\n",
            "C(Factor2)              0.699469   1.0  0.796392  0.380360\n",
            "C(Factor1):C(Factor2)   0.261879   1.0  0.298167  0.589689\n",
            "Residual               22.835710  26.0       NaN       NaN\n"
          ]
        }
      ]
    },
    {
      "cell_type": "code",
      "source": [
        "#answer:-6\n",
        "\"\"\"An F-statistic of 5.23 with a p-value of 0.02 indicates that there is a statistically significant difference between the group means at a 5% significance level.\n",
        "Since the p-value is less than 0.05, we reject the null hypothesis, meaning at least one group mean is different from the others.\"\"\""
      ],
      "metadata": {
        "colab": {
          "base_uri": "https://localhost:8080/",
          "height": 53
        },
        "id": "sNYGIfPETB7L",
        "outputId": "923ef1bc-331d-4e21-fbf2-ac3eefeff25e"
      },
      "execution_count": 6,
      "outputs": [
        {
          "output_type": "execute_result",
          "data": {
            "text/plain": [
              "'An F-statistic of 5.23 with a p-value of 0.02 indicates that there is a statistically significant difference between the group means at a 5% significance level. \\nSince the p-value is less than 0.05, we reject the null hypothesis, meaning at least one group mean is different from the others.'"
            ],
            "application/vnd.google.colaboratory.intrinsic+json": {
              "type": "string"
            }
          },
          "metadata": {},
          "execution_count": 6
        }
      ]
    },
    {
      "cell_type": "code",
      "source": [
        "#answer:-7\n",
        "\"\"\"Missing data in repeated measures ANOVA can be handled using methods like listwise deletion (removing cases with missing data), mean imputation (replacing missing values with the mean), or multiple imputation.\n",
        "The choice of method affects the accuracy and reliability of the results, with listwise deletion potentially reducing statistical power, while imputation methods can introduce bias if not done carefully.\"\"\""
      ],
      "metadata": {
        "colab": {
          "base_uri": "https://localhost:8080/",
          "height": 70
        },
        "id": "GTLVkYfVTGf0",
        "outputId": "932cd2ae-1481-4ac3-f2b7-13a83979efbb"
      },
      "execution_count": 7,
      "outputs": [
        {
          "output_type": "execute_result",
          "data": {
            "text/plain": [
              "'Missing data in repeated measures ANOVA can be handled using methods like listwise deletion (removing cases with missing data), mean imputation (replacing missing values with the mean), or multiple imputation. \\nThe choice of method affects the accuracy and reliability of the results, with listwise deletion potentially reducing statistical power, while imputation methods can introduce bias if not done carefully.'"
            ],
            "application/vnd.google.colaboratory.intrinsic+json": {
              "type": "string"
            }
          },
          "metadata": {},
          "execution_count": 7
        }
      ]
    },
    {
      "cell_type": "code",
      "source": [
        "#answer:-8\n",
        "\"\"\"Common post-hoc tests include:\n",
        "\n",
        "1---Tukey's HSD: Used when comparing all possible pairwise differences between groups.\n",
        "2---Bonferroni correction: A more conservative approach when many comparisons are being made.\n",
        "3---Scheffé’s test: More flexible, used when testing complex comparisons.\"\"\""
      ],
      "metadata": {
        "colab": {
          "base_uri": "https://localhost:8080/",
          "height": 53
        },
        "id": "AGQGqvTwTX7q",
        "outputId": "20323520-6610-4d83-e35a-5858de5e55da"
      },
      "execution_count": 8,
      "outputs": [
        {
          "output_type": "execute_result",
          "data": {
            "text/plain": [
              "\"Common post-hoc tests include:\\n\\nTukey's HSD: Used when comparing all possible pairwise differences between groups.\\nBonferroni correction: A more conservative approach when many comparisons are being made.\\nScheffé’s test: More flexible, used when testing complex comparisons.\""
            ],
            "application/vnd.google.colaboratory.intrinsic+json": {
              "type": "string"
            }
          },
          "metadata": {},
          "execution_count": 8
        }
      ]
    },
    {
      "cell_type": "code",
      "source": [
        "#answer:-9\n",
        "import pandas as pd\n",
        "import statsmodels.api as sm\n",
        "from statsmodels.formula.api import ols\n",
        "\n",
        "# Example data\n",
        "data = pd.DataFrame({'Diet': ['A']*50 + ['B']*50 + ['C']*50,\n",
        "                     'WeightLoss': np.random.randn(150)})\n",
        "\n",
        "model = ols('WeightLoss ~ C(Diet)', data=data).fit()\n",
        "anova_table = sm.stats.anova_lm(model, typ=2)\n",
        "print(anova_table)\n"
      ],
      "metadata": {
        "colab": {
          "base_uri": "https://localhost:8080/"
        },
        "id": "SpoqUT48TcWA",
        "outputId": "ec2ee355-bbde-4a8e-98f8-1fae00ad1dd0"
      },
      "execution_count": 9,
      "outputs": [
        {
          "output_type": "stream",
          "name": "stdout",
          "text": [
            "              sum_sq     df         F    PR(>F)\n",
            "C(Diet)     0.145480    2.0  0.057508  0.944135\n",
            "Residual  185.935715  147.0       NaN       NaN\n"
          ]
        }
      ]
    },
    {
      "cell_type": "code",
      "source": [
        "#answer:-10\n",
        "import pandas as pd\n",
        "import statsmodels.api as sm\n",
        "from statsmodels.formula.api import ols\n",
        "\n",
        "# Example data\n",
        "data = pd.DataFrame({'Program': ['A', 'B', 'C']*30,\n",
        "                     'Experience': ['Novice', 'Experienced']*45,\n",
        "                     'Time': np.random.randn(90)})\n",
        "\n",
        "model = ols('Time ~ C(Program) * C(Experience)', data=data).fit()\n",
        "anova_table = sm.stats.anova_lm(model, typ=2)\n",
        "print(anova_table)\n"
      ],
      "metadata": {
        "colab": {
          "base_uri": "https://localhost:8080/"
        },
        "id": "OCiJK0PfTlLI",
        "outputId": "d1bc6ba0-f982-4e4b-d2e3-c071c0ddca4e"
      },
      "execution_count": 10,
      "outputs": [
        {
          "output_type": "stream",
          "name": "stdout",
          "text": [
            "                             sum_sq    df         F    PR(>F)\n",
            "C(Program)                 2.519523   2.0  1.181890  0.311746\n",
            "C(Experience)              1.013424   1.0  0.950780  0.332321\n",
            "C(Program):C(Experience)   1.009852   2.0  0.473714  0.624338\n",
            "Residual                  89.534523  84.0       NaN       NaN\n"
          ]
        }
      ]
    },
    {
      "cell_type": "code",
      "source": [
        "#answer:-11\n",
        "import scipy.stats as stats\n",
        "\n",
        "control_group = [72, 68, 75, 70, 80]  # Example data\n",
        "experimental_group = [78, 82, 85, 80, 88]\n",
        "\n",
        "t_stat, p_value = stats.ttest_ind(control_group, experimental_group)\n",
        "print(f\"T-statistic: {t_stat}, P-value: {p_value}\")\n"
      ],
      "metadata": {
        "colab": {
          "base_uri": "https://localhost:8080/"
        },
        "id": "hE6VQrdETu1t",
        "outputId": "36615881-7036-429d-9fa1-ceaffcdd57bc"
      },
      "execution_count": 11,
      "outputs": [
        {
          "output_type": "stream",
          "name": "stdout",
          "text": [
            "T-statistic: -3.491486243775876, P-value: 0.008180565909760731\n"
          ]
        }
      ]
    },
    {
      "cell_type": "code",
      "source": [
        "#answer:-12\n",
        "from statsmodels.stats.anova import AnovaRM\n",
        "\n",
        "# Example data\n",
        "df = pd.DataFrame({\n",
        "    'Store': ['A']*30 + ['B']*30 + ['C']*30,\n",
        "    'Day': list(range(30))*3,\n",
        "    'Sales': np.random.randn(90)\n",
        "})\n",
        "\n",
        "# Conducting repeated measures ANOVA\n",
        "anova_model = AnovaRM(df, 'Sales', 'Day', within=['Store']).fit()\n",
        "print(anova_model)\n"
      ],
      "metadata": {
        "colab": {
          "base_uri": "https://localhost:8080/"
        },
        "id": "zjtS02EbT8lY",
        "outputId": "6b4ce5d1-de43-4575-fe39-0e354ab139ab"
      },
      "execution_count": 12,
      "outputs": [
        {
          "output_type": "stream",
          "name": "stdout",
          "text": [
            "               Anova\n",
            "===================================\n",
            "      F Value Num DF  Den DF Pr > F\n",
            "-----------------------------------\n",
            "Store  1.0999 2.0000 58.0000 0.3397\n",
            "===================================\n",
            "\n"
          ]
        }
      ]
    },
    {
      "cell_type": "code",
      "source": [],
      "metadata": {
        "id": "2ivKIj03UAg8"
      },
      "execution_count": null,
      "outputs": []
    }
  ]
}